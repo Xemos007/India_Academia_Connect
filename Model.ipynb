{
 "cells": [
  {
   "cell_type": "code",
   "execution_count": 1,
   "source": [
    "import os\r\n",
    "import cv2\r\n",
    "import numpy as np\r\n",
    "import matplotlib.pyplot as plt\r\n",
    "from tensorflow.keras import datasets, layers, models\r\n",
    "from sklearn.preprocessing import LabelEncoder\r\n",
    "from sklearn.model_selection import train_test_split\r\n",
    "import json"
   ],
   "outputs": [],
   "metadata": {}
  },
  {
   "cell_type": "code",
   "execution_count": null,
   "source": [
    "datset_path = os.getcwd()\r\n",
    "\r\n",
    "train_data_path = os.path.join(datset_path,'training')\r\n",
    "test_data_path = os.path.join(datset_path,'test')"
   ],
   "outputs": [],
   "metadata": {}
  },
  {
   "cell_type": "markdown",
   "source": [
    "## Processing Training data\n"
   ],
   "metadata": {}
  },
  {
   "cell_type": "code",
   "execution_count": null,
   "source": [
    "class_labels=[]\r\n",
    "features=[]\r\n",
    "WIDTH=HEIGHT=64\r\n",
    "\r\n",
    "for file in os.listdir(train_data_path):\r\n",
    "    img_path=os.path.join(train_data_path,file)\r\n",
    "    current_label=file\r\n",
    "    for img in os.listdir(img_path):\r\n",
    "        image = plt.imread(os.path.join(img_path,img))\r\n",
    "        class_labels.append(current_label)\r\n",
    "        img = image.reshape([WIDTH, HEIGHT, 3])\r\n",
    "        features.append(img)"
   ],
   "outputs": [],
   "metadata": {}
  },
  {
   "cell_type": "code",
   "execution_count": null,
   "source": [
    "x_train=np.array(features)\r\n",
    "targetNames=np.unique(class_labels)\r\n",
    "le=LabelEncoder()\r\n",
    "y_train=le.fit_transform(class_labels)"
   ],
   "outputs": [],
   "metadata": {}
  },
  {
   "cell_type": "code",
   "execution_count": null,
   "source": [
    "print(\"Shape of x_train: \",np.shape(x_train))\r\n",
    "print(\"Shape of y_train: \",np.shape(y_train))"
   ],
   "outputs": [
    {
     "output_type": "stream",
     "name": "stdout",
     "text": [
      "Shape of x_train:  (5875, 64, 64, 3)\n",
      "Shape of y_train:  (5875,)\n"
     ]
    }
   ],
   "metadata": {}
  },
  {
   "cell_type": "code",
   "execution_count": null,
   "source": [
    "X_train, X_test, Y_train, Y_test = train_test_split(x_train, y_train, test_size=0.03, random_state=42)"
   ],
   "outputs": [],
   "metadata": {}
  },
  {
   "cell_type": "code",
   "execution_count": null,
   "source": [
    "X_train=np.array(X_train).astype(float)\r\n",
    "Y_train=np.array(Y_train).astype(float)\r\n",
    "X_test=np.array(X_test).astype(float)\r\n",
    "Y_test=np.array(Y_test).astype(float)"
   ],
   "outputs": [],
   "metadata": {}
  },
  {
   "cell_type": "code",
   "execution_count": null,
   "source": [
    "print(\"Shape of x_train: \",np.shape(X_train))\r\n",
    "print(\"Shape of y_train: \",np.shape(Y_train))\r\n",
    "\r\n",
    "\r\n",
    "print(\"Shape of X_test: \",np.shape(X_test))\r\n",
    "print(\"Shape of y_test: \",np.shape(Y_test))"
   ],
   "outputs": [
    {
     "output_type": "stream",
     "name": "stdout",
     "text": [
      "Shape of x_train:  (5698, 64, 64, 3)\n",
      "Shape of y_train:  (5698,)\n",
      "Shape of X_test:  (177, 64, 64, 3)\n",
      "Shape of y_test:  (177,)\n"
     ]
    }
   ],
   "metadata": {}
  },
  {
   "cell_type": "code",
   "execution_count": null,
   "source": [
    "Y_train"
   ],
   "outputs": [
    {
     "output_type": "execute_result",
     "data": {
      "text/plain": [
       "array([0., 1., 0., ..., 1., 1., 0.])"
      ]
     },
     "metadata": {},
     "execution_count": 30
    }
   ],
   "metadata": {}
  },
  {
   "cell_type": "markdown",
   "source": [
    "## Training the model"
   ],
   "metadata": {}
  },
  {
   "cell_type": "code",
   "execution_count": null,
   "source": [
    "cnn = models.Sequential([\r\n",
    "    layers.Conv2D(filters=128, kernel_size=(3, 3), activation='relu', input_shape=(64, 64, 3)),\r\n",
    "    layers.MaxPooling2D((2, 2)),\r\n",
    "    \r\n",
    "    layers.Conv2D(filters=64, kernel_size=(3, 3), activation='relu'),\r\n",
    "    layers.MaxPooling2D((2, 2)),\r\n",
    "    \r\n",
    "    layers.Conv2D(filters=32, kernel_size=(3, 3), activation='relu'),\r\n",
    "    layers.MaxPooling2D((2, 2)),\r\n",
    "    \r\n",
    "    layers.Conv2D(filters=16, kernel_size=(3, 3), activation='relu'),\r\n",
    "    layers.MaxPooling2D((2, 2)),\r\n",
    "    \r\n",
    "    layers.Flatten(),\r\n",
    "    layers.Dense(64, activation='relu'),\r\n",
    "    layers.Dense(2, activation='softmax')\r\n",
    "])"
   ],
   "outputs": [],
   "metadata": {}
  },
  {
   "cell_type": "code",
   "execution_count": null,
   "source": [
    "cnn.compile(optimizer='adam',loss='sparse_categorical_crossentropy', metrics=['accuracy'])\r\n",
    "history =cnn.fit(X_train, Y_train, validation_data=(X_test,Y_test),epochs=5)"
   ],
   "outputs": [
    {
     "output_type": "stream",
     "name": "stdout",
     "text": [
      "Epoch 1/5\n",
      "179/179 [==============================] - 30s 168ms/step - loss: 2.3939 - accuracy: 0.6960 - val_loss: 0.3353 - val_accuracy: 0.8870\n",
      "Epoch 2/5\n",
      "179/179 [==============================] - 29s 163ms/step - loss: 0.3175 - accuracy: 0.8780 - val_loss: 0.2999 - val_accuracy: 0.9040\n",
      "Epoch 3/5\n",
      "179/179 [==============================] - 28s 157ms/step - loss: 0.2415 - accuracy: 0.9161 - val_loss: 0.2030 - val_accuracy: 0.9435\n",
      "Epoch 4/5\n",
      "179/179 [==============================] - 29s 161ms/step - loss: 0.1926 - accuracy: 0.9327 - val_loss: 0.1869 - val_accuracy: 0.9322\n",
      "Epoch 5/5\n",
      "179/179 [==============================] - 30s 168ms/step - loss: 0.1798 - accuracy: 0.9392 - val_loss: 0.1809 - val_accuracy: 0.9379\n"
     ]
    }
   ],
   "metadata": {}
  },
  {
   "cell_type": "code",
   "execution_count": null,
   "source": [
    "plt.title('Loss')\r\n",
    "plt.plot(history.history['loss'], label='train')\r\n",
    "plt.plot(history.history['val_loss'], label='test')\r\n",
    "plt.legend()"
   ],
   "outputs": [
    {
     "output_type": "execute_result",
     "data": {
      "text/plain": [
       "<matplotlib.legend.Legend at 0x258090a03d0>"
      ]
     },
     "metadata": {},
     "execution_count": 33
    },
    {
     "output_type": "display_data",
     "data": {
      "image/png": "[encoded data removed]",
      "text/plain": [
       "<Figure size 432x288 with 1 Axes>"
      ]
     },
     "metadata": {
      "needs_background": "light"
     }
    }
   ],
   "metadata": {}
  },
  {
   "cell_type": "code",
   "execution_count": null,
   "source": [
    "cnn.save(\"model_save_file.h5\")"
   ],
   "outputs": [],
   "metadata": {}
  },
  {
   "cell_type": "code",
   "execution_count": null,
   "source": [
    "res = []\r\n",
    "\r\n",
    "for img in os.listdir(test_data_path):\r\n",
    "    test_image = plt.imread(os.path.join(test_data_path,img))\r\n",
    "    result_image = test_image.reshape([WIDTH, HEIGHT, 3])\r\n",
    "    res.append(result_image)\r\n",
    "res = np.array(res)"
   ],
   "outputs": [],
   "metadata": {}
  },
  {
   "cell_type": "code",
   "execution_count": null,
   "source": [
    "res_image = cnn.predict(res)"
   ],
   "outputs": [],
   "metadata": {}
  },
  {
   "cell_type": "code",
   "execution_count": null,
   "source": [
    "result = []\r\n",
    "i=0\r\n",
    "for img in res_image:\r\n",
    "    if(np.argmax(img) == 1):\r\n",
    "        result.append(1)\r\n",
    "    else:\r\n",
    "        result.append(0)\r\n",
    "    i+=1\r\n"
   ],
   "outputs": [],
   "metadata": {}
  },
  {
   "cell_type": "code",
   "execution_count": null,
   "source": [
    "for i in os.listdir(test_data_path):\r\n",
    "    print(i)"
   ],
   "outputs": [
    {
     "output_type": "stream",
     "name": "stdout",
     "text": [
      "1.jpg\n",
      "10.jpg\n",
      "11.jpg\n",
      "12.jpg\n",
      "13.jpg\n",
      "14.jpg\n",
      "15.jpg\n",
      "16.jpg\n",
      "17.jpg\n",
      "18.jpg\n",
      "19.jpg\n",
      "2.jpg\n",
      "20.jpg\n",
      "21.jpg\n",
      "22.jpg\n",
      "23.jpg\n",
      "24.jpg\n",
      "25.jpg\n",
      "26.jpg\n",
      "27.jpg\n",
      "28.jpg\n",
      "29.jpg\n",
      "3.jpg\n",
      "30.jpg\n",
      "31.jpg\n",
      "32.jpg\n",
      "33.jpg\n",
      "34.jpg\n",
      "35.jpg\n",
      "36.jpg\n",
      "37.jpg\n",
      "38.jpg\n",
      "39.jpg\n",
      "4.jpg\n",
      "40.jpg\n",
      "41.jpg\n",
      "42.jpg\n",
      "43.jpg\n",
      "44.jpg\n",
      "45.jpg\n",
      "46.jpg\n",
      "47.jpg\n",
      "48.jpg\n",
      "49.jpg\n",
      "5.jpg\n",
      "50.jpg\n",
      "51.jpg\n",
      "52.jpg\n",
      "53.jpg\n",
      "54.jpg\n",
      "55.jpg\n",
      "56.jpg\n",
      "57.jpg\n",
      "58.jpg\n",
      "59.jpg\n",
      "6.jpg\n",
      "60.jpg\n",
      "61.jpg\n",
      "62.jpg\n",
      "63.jpg\n",
      "64.jpg\n",
      "65.jpg\n",
      "66.jpg\n",
      "67.jpg\n",
      "68.jpg\n",
      "69.jpg\n",
      "7.jpg\n",
      "70.jpg\n",
      "71.jpg\n",
      "72.jpg\n",
      "73.jpg\n",
      "74.jpg\n",
      "75.jpg\n",
      "76.jpg\n",
      "77.jpg\n",
      "78.jpg\n",
      "79.jpg\n",
      "8.jpg\n",
      "80.jpg\n",
      "81.jpg\n",
      "82.jpg\n",
      "83.jpg\n",
      "84.jpg\n",
      "85.jpg\n",
      "86.jpg\n",
      "87.jpg\n",
      "88.jpg\n",
      "89.jpg\n",
      "9.jpg\n",
      "90.jpg\n",
      "91.jpg\n",
      "92.jpg\n",
      "93.jpg\n",
      "94.jpg\n",
      "95.jpg\n",
      "96.jpg\n",
      "97.jpg\n",
      "98.jpg\n"
     ]
    }
   ],
   "metadata": {}
  },
  {
   "cell_type": "code",
   "execution_count": null,
   "source": [
    "dictio={}\r\n",
    "for i,j in enumerate(os.listdir(test_data_path)):\r\n",
    "    dictio[j] = result[i]"
   ],
   "outputs": [],
   "metadata": {}
  },
  {
   "cell_type": "code",
   "execution_count": null,
   "source": [
    "\r\n",
    "def write_json(filename, result):\r\n",
    "    with open(filename, 'w') as outfile:\r\n",
    "        json.dump(result, outfile)\r\n",
    "\r\n",
    "def generate_sample_file(filename):\r\n",
    "    write_json(filename, dictio)\r\n",
    "\r\n",
    "\r\n",
    "generate_sample_file('./result.json')"
   ],
   "outputs": [],
   "metadata": {}
  }
 ],
 "metadata": {
  "interpreter": {
   "hash": "ac59ebe37160ed0dfa835113d9b8498d9f09ceb179beaac4002f036b9467c963"
  },
  "kernelspec": {
   "name": "python3",
   "display_name": "Python 3.9.2 64-bit"
  },
  "language_info": {
   "codemirror_mode": {
    "name": "ipython",
    "version": 3
   },
   "file_extension": ".py",
   "mimetype": "text/x-python",
   "name": "python",
   "nbconvert_exporter": "python",
   "pygments_lexer": "ipython3",
   "version": "3.9.2"
  }
 },
 "nbformat": 4,
 "nbformat_minor": 2
}