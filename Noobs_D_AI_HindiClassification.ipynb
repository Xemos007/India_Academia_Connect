{
  "nbformat": 4,
  "nbformat_minor": 0,
  "metadata": {
    "colab": {
      "name": "Noobs_D_AI_HindiClassification.ipynb",
      "provenance": []
    },
    "kernelspec": {
      "name": "python3",
      "display_name": "Python 3"
    },
    "language_info": {
      "name": "python"
    },
    "accelerator": "GPU"
  },
  "cells": [
    {
      "cell_type": "code",
      "metadata": {
        "colab": {
          "base_uri": "https://localhost:8080/"
        },
        "id": "7y56mv7McYPn",
        "outputId": "53e0a205-08e3-403c-d134-227474c6461e"
      },
      "source": [
        "from google.colab import drive\n",
        "drive.mount('/content/gdrive')"
      ],
      "execution_count": 1,
      "outputs": [
        {
          "output_type": "stream",
          "name": "stdout",
          "text": [
            "Mounted at /content/gdrive\n"
          ]
        }
      ]
    },
    {
      "cell_type": "code",
      "metadata": {
        "id": "DqFhLftlclDa"
      },
      "source": [
        "import os\n",
        "import json\n",
        "from keras.layers import Input, Lambda, Dense, Flatten\n",
        "from keras.models import Model\n",
        "from keras.applications.vgg16 import VGG16\n",
        "from keras.applications.vgg16 import preprocess_input\n",
        "from keras.preprocessing import image\n",
        "from keras.preprocessing.image import ImageDataGenerator\n",
        "from keras.models import Sequential\n",
        "from keras.utils.np_utils import to_categorical\n",
        "import numpy as np\n",
        "import matplotlib.pyplot as plt\n",
        "from sklearn.preprocessing import LabelEncoder\n",
        "from sklearn.model_selection import train_test_split\n",
        "from sklearn.metrics import accuracy_score, f1_score, precision_score, confusion_matrix\n",
        "from sklearn.model_selection import StratifiedKFold\n",
        "from PIL import Image\n",
        "import warnings\n",
        "warnings.filterwarnings(\"ignore\", category=FutureWarning)\n"
      ],
      "execution_count": 2,
      "outputs": []
    },
    {
      "cell_type": "code",
      "metadata": {
        "id": "hCA2OhBAdKTO"
      },
      "source": [
        "train_data_path = '/content/gdrive/MyDrive/dataset/training'\n",
        "test_data_path = '/content/gdrive/MyDrive/dataset/test'"
      ],
      "execution_count": 3,
      "outputs": []
    },
    {
      "cell_type": "code",
      "metadata": {
        "colab": {
          "base_uri": "https://localhost:8080/"
        },
        "id": "aQxal7iqdNo1",
        "outputId": "30ff2be3-aabe-49c6-906d-af49cf435987"
      },
      "source": [
        "labels=[]\n",
        "images=[]\n",
        "total_img = 0\n",
        "for file in os.listdir(train_data_path):\n",
        "    img_path=os.path.join(train_data_path,file)\n",
        "    current_label=file\n",
        "    for img in os.listdir(img_path):\n",
        "        if total_img%1000==0:\n",
        "          print(\"Done {} images\".format(total_img),file)\n",
        "        image = plt.imread(os.path.join(img_path,img))\n",
        "        labels.append(current_label)\n",
        "        images.append(image)\n",
        "        total_img+=1\n",
        "print(\"Total Images: {}\".format(total_img))"
      ],
      "execution_count": 8,
      "outputs": [
        {
          "output_type": "stream",
          "name": "stdout",
          "text": [
            "Done 0 images background\n",
            "Done 1000 images background\n",
            "Done 2000 images background\n",
            "Done 3000 images background\n",
            "Done 4000 images background\n",
            "Done 5000 images hi\n",
            "Total Images: 5819\n"
          ]
        }
      ]
    },
    {
      "cell_type": "code",
      "metadata": {
        "colab": {
          "base_uri": "https://localhost:8080/"
        },
        "id": "Ibpwj7ZMdPxh",
        "outputId": "88e2081e-63d0-4443-eb69-bf240277fda2"
      },
      "source": [
        "IMAGE_SIZE = [64,64]\n",
        "vgg = VGG16(input_shape=IMAGE_SIZE + [3], weights='imagenet', include_top=False)"
      ],
      "execution_count": 9,
      "outputs": [
        {
          "output_type": "stream",
          "name": "stdout",
          "text": [
            "Downloading data from https://storage.googleapis.com/tensorflow/keras-applications/vgg16/vgg16_weights_tf_dim_ordering_tf_kernels_notop.h5\n",
            "58892288/58889256 [==============================] - 1s 0us/step\n",
            "58900480/58889256 [==============================] - 1s 0us/step\n"
          ]
        }
      ]
    },
    {
      "cell_type": "code",
      "metadata": {
        "colab": {
          "base_uri": "https://localhost:8080/"
        },
        "id": "1HwcM-VsdYql",
        "outputId": "6b16e269-7856-445f-deb5-2bdea0b90d3f"
      },
      "source": [
        "x = Flatten()(vgg.output)\n",
        "prediction = Dense(2, activation='softmax')(x)\n",
        "model = Model(inputs=vgg.input, outputs=prediction)\n",
        "model.summary()"
      ],
      "execution_count": 10,
      "outputs": [
        {
          "output_type": "stream",
          "name": "stdout",
          "text": [
            "Model: \"model\"\n",
            "_________________________________________________________________\n",
            "Layer (type)                 Output Shape              Param #   \n",
            "=================================================================\n",
            "input_1 (InputLayer)         [(None, 64, 64, 3)]       0         \n",
            "_________________________________________________________________\n",
            "block1_conv1 (Conv2D)        (None, 64, 64, 64)        1792      \n",
            "_________________________________________________________________\n",
            "block1_conv2 (Conv2D)        (None, 64, 64, 64)        36928     \n",
            "_________________________________________________________________\n",
            "block1_pool (MaxPooling2D)   (None, 32, 32, 64)        0         \n",
            "_________________________________________________________________\n",
            "block2_conv1 (Conv2D)        (None, 32, 32, 128)       73856     \n",
            "_________________________________________________________________\n",
            "block2_conv2 (Conv2D)        (None, 32, 32, 128)       147584    \n",
            "_________________________________________________________________\n",
            "block2_pool (MaxPooling2D)   (None, 16, 16, 128)       0         \n",
            "_________________________________________________________________\n",
            "block3_conv1 (Conv2D)        (None, 16, 16, 256)       295168    \n",
            "_________________________________________________________________\n",
            "block3_conv2 (Conv2D)        (None, 16, 16, 256)       590080    \n",
            "_________________________________________________________________\n",
            "block3_conv3 (Conv2D)        (None, 16, 16, 256)       590080    \n",
            "_________________________________________________________________\n",
            "block3_pool (MaxPooling2D)   (None, 8, 8, 256)         0         \n",
            "_________________________________________________________________\n",
            "block4_conv1 (Conv2D)        (None, 8, 8, 512)         1180160   \n",
            "_________________________________________________________________\n",
            "block4_conv2 (Conv2D)        (None, 8, 8, 512)         2359808   \n",
            "_________________________________________________________________\n",
            "block4_conv3 (Conv2D)        (None, 8, 8, 512)         2359808   \n",
            "_________________________________________________________________\n",
            "block4_pool (MaxPooling2D)   (None, 4, 4, 512)         0         \n",
            "_________________________________________________________________\n",
            "block5_conv1 (Conv2D)        (None, 4, 4, 512)         2359808   \n",
            "_________________________________________________________________\n",
            "block5_conv2 (Conv2D)        (None, 4, 4, 512)         2359808   \n",
            "_________________________________________________________________\n",
            "block5_conv3 (Conv2D)        (None, 4, 4, 512)         2359808   \n",
            "_________________________________________________________________\n",
            "block5_pool (MaxPooling2D)   (None, 2, 2, 512)         0         \n",
            "_________________________________________________________________\n",
            "flatten (Flatten)            (None, 2048)              0         \n",
            "_________________________________________________________________\n",
            "dense (Dense)                (None, 2)                 4098      \n",
            "=================================================================\n",
            "Total params: 14,718,786\n",
            "Trainable params: 14,718,786\n",
            "Non-trainable params: 0\n",
            "_________________________________________________________________\n"
          ]
        }
      ]
    },
    {
      "cell_type": "code",
      "metadata": {
        "id": "mE15IUOAdbxe"
      },
      "source": [
        "model.compile(loss='binary_crossentropy',\n",
        "              optimizer='adamax',\n",
        "              metrics=['accuracy'])"
      ],
      "execution_count": 11,
      "outputs": []
    },
    {
      "cell_type": "code",
      "metadata": {
        "id": "DvZuvQXMdfz_"
      },
      "source": [
        "en_labels = LabelEncoder().fit_transform(labels)"
      ],
      "execution_count": 17,
      "outputs": []
    },
    {
      "cell_type": "code",
      "metadata": {
        "id": "51rW6OHEdwZU"
      },
      "source": [
        "X = np.array(images)\n",
        "y = np.array(to_categorical(en_labels))"
      ],
      "execution_count": 18,
      "outputs": []
    },
    {
      "cell_type": "code",
      "metadata": {
        "id": "9KRqfiWddzfz"
      },
      "source": [
        "X_train,X_val,y_train,y_val = train_test_split(X,y,test_size=0.1)"
      ],
      "execution_count": 20,
      "outputs": []
    },
    {
      "cell_type": "code",
      "metadata": {
        "colab": {
          "base_uri": "https://localhost:8080/"
        },
        "id": "zzeNVKCld1XJ",
        "outputId": "608b9667-cb6c-4aaf-c914-1cce2b77d381"
      },
      "source": [
        "model_history=model.fit(\n",
        "  X_train,y_train,\n",
        "  validation_data=(X_val,y_val),\n",
        "  epochs=50,\n",
        "  steps_per_epoch=100)"
      ],
      "execution_count": 21,
      "outputs": [
        {
          "output_type": "stream",
          "name": "stdout",
          "text": [
            "Epoch 1/50\n",
            "100/100 [==============================] - 54s 188ms/step - loss: 9.1712 - accuracy: 0.7552 - val_loss: 0.5444 - val_accuracy: 0.7663\n",
            "Epoch 2/50\n",
            "100/100 [==============================] - 15s 150ms/step - loss: 0.5460 - accuracy: 0.7652 - val_loss: 0.5138 - val_accuracy: 0.7663\n",
            "Epoch 3/50\n",
            "100/100 [==============================] - 15s 150ms/step - loss: 0.4836 - accuracy: 0.7777 - val_loss: 0.4224 - val_accuracy: 0.8196\n",
            "Epoch 4/50\n",
            "100/100 [==============================] - 15s 151ms/step - loss: 0.3736 - accuracy: 0.8452 - val_loss: 0.3330 - val_accuracy: 0.8780\n",
            "Epoch 5/50\n",
            "100/100 [==============================] - 15s 151ms/step - loss: 0.2223 - accuracy: 0.9129 - val_loss: 0.1424 - val_accuracy: 0.9450\n",
            "Epoch 6/50\n",
            "100/100 [==============================] - 15s 151ms/step - loss: 0.1255 - accuracy: 0.9544 - val_loss: 0.2278 - val_accuracy: 0.9433\n",
            "Epoch 7/50\n",
            "100/100 [==============================] - 15s 151ms/step - loss: 0.1215 - accuracy: 0.9601 - val_loss: 0.1297 - val_accuracy: 0.9536\n",
            "Epoch 8/50\n",
            "100/100 [==============================] - 15s 151ms/step - loss: 0.0852 - accuracy: 0.9696 - val_loss: 0.0657 - val_accuracy: 0.9794\n",
            "Epoch 9/50\n",
            "100/100 [==============================] - 15s 151ms/step - loss: 0.0564 - accuracy: 0.9819 - val_loss: 0.0334 - val_accuracy: 0.9914\n",
            "Epoch 10/50\n",
            "100/100 [==============================] - 15s 151ms/step - loss: 0.0496 - accuracy: 0.9828 - val_loss: 0.0902 - val_accuracy: 0.9759\n",
            "Epoch 11/50\n",
            "100/100 [==============================] - 15s 151ms/step - loss: 0.0491 - accuracy: 0.9815 - val_loss: 0.0434 - val_accuracy: 0.9794\n",
            "Epoch 12/50\n",
            "100/100 [==============================] - 15s 151ms/step - loss: 0.0495 - accuracy: 0.9845 - val_loss: 0.0245 - val_accuracy: 0.9897\n",
            "Epoch 13/50\n",
            "100/100 [==============================] - 15s 151ms/step - loss: 0.0305 - accuracy: 0.9911 - val_loss: 0.0248 - val_accuracy: 0.9914\n",
            "Epoch 14/50\n",
            "100/100 [==============================] - 15s 151ms/step - loss: 0.0328 - accuracy: 0.9894 - val_loss: 0.0215 - val_accuracy: 0.9948\n",
            "Epoch 15/50\n",
            "100/100 [==============================] - 15s 151ms/step - loss: 0.0274 - accuracy: 0.9905 - val_loss: 0.0359 - val_accuracy: 0.9863\n",
            "Epoch 16/50\n",
            "100/100 [==============================] - 15s 152ms/step - loss: 0.0109 - accuracy: 0.9968 - val_loss: 0.0239 - val_accuracy: 0.9948\n",
            "Epoch 17/50\n",
            "100/100 [==============================] - 15s 151ms/step - loss: 0.0261 - accuracy: 0.9915 - val_loss: 0.0259 - val_accuracy: 0.9948\n",
            "Epoch 18/50\n",
            "100/100 [==============================] - 15s 152ms/step - loss: 0.0343 - accuracy: 0.9904 - val_loss: 0.1130 - val_accuracy: 0.9794\n",
            "Epoch 19/50\n",
            "100/100 [==============================] - 15s 151ms/step - loss: 0.0176 - accuracy: 0.9938 - val_loss: 0.0134 - val_accuracy: 0.9948\n",
            "Epoch 20/50\n",
            "100/100 [==============================] - 15s 151ms/step - loss: 0.0137 - accuracy: 0.9970 - val_loss: 0.0153 - val_accuracy: 0.9966\n",
            "Epoch 21/50\n",
            "100/100 [==============================] - 15s 151ms/step - loss: 0.0043 - accuracy: 0.9985 - val_loss: 0.0061 - val_accuracy: 0.9983\n",
            "Epoch 22/50\n",
            "100/100 [==============================] - 15s 151ms/step - loss: 3.3221e-04 - accuracy: 1.0000 - val_loss: 0.0064 - val_accuracy: 0.9983\n",
            "Epoch 23/50\n",
            "100/100 [==============================] - 15s 151ms/step - loss: 9.0692e-05 - accuracy: 1.0000 - val_loss: 0.0057 - val_accuracy: 0.9983\n",
            "Epoch 24/50\n",
            "100/100 [==============================] - 15s 151ms/step - loss: 5.7864e-05 - accuracy: 1.0000 - val_loss: 0.0056 - val_accuracy: 0.9983\n",
            "Epoch 25/50\n",
            "100/100 [==============================] - 15s 151ms/step - loss: 3.8661e-05 - accuracy: 1.0000 - val_loss: 0.0066 - val_accuracy: 0.9983\n",
            "Epoch 26/50\n",
            "100/100 [==============================] - 15s 152ms/step - loss: 2.8324e-05 - accuracy: 1.0000 - val_loss: 0.0050 - val_accuracy: 0.9983\n",
            "Epoch 27/50\n",
            "100/100 [==============================] - 15s 151ms/step - loss: 1.2618e-05 - accuracy: 1.0000 - val_loss: 0.0068 - val_accuracy: 0.9983\n",
            "Epoch 28/50\n",
            "100/100 [==============================] - 15s 151ms/step - loss: 1.6310e-05 - accuracy: 1.0000 - val_loss: 0.0062 - val_accuracy: 0.9983\n",
            "Epoch 29/50\n",
            "100/100 [==============================] - 15s 151ms/step - loss: 1.0929e-05 - accuracy: 1.0000 - val_loss: 0.0070 - val_accuracy: 0.9983\n",
            "Epoch 30/50\n",
            "100/100 [==============================] - 15s 152ms/step - loss: 9.2621e-06 - accuracy: 1.0000 - val_loss: 0.0070 - val_accuracy: 0.9983\n",
            "Epoch 31/50\n",
            "100/100 [==============================] - 15s 151ms/step - loss: 7.1008e-06 - accuracy: 1.0000 - val_loss: 0.0067 - val_accuracy: 0.9983\n",
            "Epoch 32/50\n",
            "100/100 [==============================] - 15s 151ms/step - loss: 3.1080e-06 - accuracy: 1.0000 - val_loss: 0.0071 - val_accuracy: 0.9983\n",
            "Epoch 33/50\n",
            "100/100 [==============================] - 15s 150ms/step - loss: 3.8944e-06 - accuracy: 1.0000 - val_loss: 0.0075 - val_accuracy: 0.9983\n",
            "Epoch 34/50\n",
            "100/100 [==============================] - 15s 151ms/step - loss: 2.0473e-06 - accuracy: 1.0000 - val_loss: 0.0075 - val_accuracy: 0.9983\n",
            "Epoch 35/50\n",
            "100/100 [==============================] - 15s 151ms/step - loss: 1.7791e-06 - accuracy: 1.0000 - val_loss: 0.0075 - val_accuracy: 0.9983\n",
            "Epoch 36/50\n",
            "100/100 [==============================] - 15s 151ms/step - loss: 1.3425e-06 - accuracy: 1.0000 - val_loss: 0.0086 - val_accuracy: 0.9983\n",
            "Epoch 37/50\n",
            "100/100 [==============================] - 15s 151ms/step - loss: 1.3632e-06 - accuracy: 1.0000 - val_loss: 0.0083 - val_accuracy: 0.9983\n",
            "Epoch 38/50\n",
            "100/100 [==============================] - 15s 151ms/step - loss: 6.7515e-07 - accuracy: 1.0000 - val_loss: 0.0088 - val_accuracy: 0.9983\n",
            "Epoch 39/50\n",
            "100/100 [==============================] - 15s 151ms/step - loss: 7.3231e-07 - accuracy: 1.0000 - val_loss: 0.0088 - val_accuracy: 0.9983\n",
            "Epoch 40/50\n",
            "100/100 [==============================] - 15s 151ms/step - loss: 8.2786e-07 - accuracy: 1.0000 - val_loss: 0.0090 - val_accuracy: 0.9983\n",
            "Epoch 41/50\n",
            "100/100 [==============================] - 15s 151ms/step - loss: 2.7120e-07 - accuracy: 1.0000 - val_loss: 0.0097 - val_accuracy: 0.9983\n",
            "Epoch 42/50\n",
            "100/100 [==============================] - 15s 151ms/step - loss: 4.2567e-07 - accuracy: 1.0000 - val_loss: 0.0097 - val_accuracy: 0.9983\n",
            "Epoch 43/50\n",
            "100/100 [==============================] - 15s 151ms/step - loss: 3.9642e-07 - accuracy: 1.0000 - val_loss: 0.0096 - val_accuracy: 0.9983\n",
            "Epoch 44/50\n",
            "100/100 [==============================] - 15s 151ms/step - loss: 3.1260e-07 - accuracy: 1.0000 - val_loss: 0.0098 - val_accuracy: 0.9983\n",
            "Epoch 45/50\n",
            "100/100 [==============================] - 15s 151ms/step - loss: 1.6427e-07 - accuracy: 1.0000 - val_loss: 0.0103 - val_accuracy: 0.9983\n",
            "Epoch 46/50\n",
            "100/100 [==============================] - 15s 151ms/step - loss: 2.8827e-07 - accuracy: 1.0000 - val_loss: 0.0100 - val_accuracy: 0.9983\n",
            "Epoch 47/50\n",
            "100/100 [==============================] - 15s 151ms/step - loss: 1.8260e-07 - accuracy: 1.0000 - val_loss: 0.0102 - val_accuracy: 0.9983\n",
            "Epoch 48/50\n",
            "100/100 [==============================] - 15s 151ms/step - loss: 1.5363e-07 - accuracy: 1.0000 - val_loss: 0.0104 - val_accuracy: 0.9983\n",
            "Epoch 49/50\n",
            "100/100 [==============================] - 15s 151ms/step - loss: 1.3257e-07 - accuracy: 1.0000 - val_loss: 0.0104 - val_accuracy: 0.9983\n",
            "Epoch 50/50\n",
            " 50/100 [==============>...............] - ETA: 7s - loss: 6.8882e-08 - accuracy: 1.0000WARNING:tensorflow:Your input ran out of data; interrupting training. Make sure that your dataset or generator can generate at least `steps_per_epoch * epochs` batches (in this case, 5000 batches). You may need to use the repeat() function when building your dataset.\n",
            "100/100 [==============================] - 8s 78ms/step - loss: 6.8882e-08 - accuracy: 1.0000 - val_loss: 0.0106 - val_accuracy: 0.9983\n"
          ]
        }
      ]
    },
    {
      "cell_type": "code",
      "metadata": {
        "id": "ldrmw-w2d3FM"
      },
      "source": [
        "test_imgs = []\n",
        "file_name=[]\n",
        "for file in os.listdir(test_data_path):\n",
        "  img_path=os.path.join(test_data_path,file)\n",
        "  image = plt.imread(img_path)\n",
        "  test_imgs.append(image)\n",
        "  file_name.append(file)"
      ],
      "execution_count": 22,
      "outputs": []
    },
    {
      "cell_type": "code",
      "metadata": {
        "id": "Awun0zKCd-Bg"
      },
      "source": [
        "preds=model.predict(np.array(test_imgs))"
      ],
      "execution_count": 23,
      "outputs": []
    },
    {
      "cell_type": "code",
      "metadata": {
        "colab": {
          "base_uri": "https://localhost:8080/"
        },
        "id": "uTBkGjWhd-nu",
        "outputId": "3d6ca3ca-57d1-4811-9c0a-59def84276ea"
      },
      "source": [
        "A = []\n",
        "for i in preds:\n",
        "  print(i)\n",
        "  A.append(np.argmax(i))"
      ],
      "execution_count": 24,
      "outputs": [
        {
          "output_type": "stream",
          "name": "stdout",
          "text": [
            "[1.0000000e+00 5.1913855e-20]\n",
            "[1. 0.]\n",
            "[1.0000000e+00 1.1428609e-20]\n",
            "[1.000000e+00 5.839997e-34]\n",
            "[1.0000000e+00 3.5350715e-30]\n",
            "[1.0000000e+00 1.8965466e-28]\n",
            "[1.0000000e+00 6.1625056e-26]\n",
            "[1.000000e+00 2.728252e-32]\n",
            "[1.0000000e+00 1.0445222e-31]\n",
            "[1. 0.]\n",
            "[1.0000000e+00 3.2293854e-28]\n",
            "[1.0000000e+00 2.8246277e-21]\n",
            "[1.0000000e+00 3.1375509e-18]\n",
            "[1.000000e+00 1.736064e-30]\n",
            "[1.0000000e+00 1.1581043e-25]\n",
            "[1.0000000e+00 5.6886893e-22]\n",
            "[1.0000000e+00 9.1532624e-32]\n",
            "[0. 1.]\n",
            "[0. 1.]\n",
            "[0. 1.]\n",
            "[0. 1.]\n",
            "[0. 1.]\n",
            "[1.3286315e-37 1.0000000e+00]\n",
            "[9.999999e-01 8.013158e-08]\n",
            "[0. 1.]\n",
            "[0. 1.]\n",
            "[0. 1.]\n",
            "[0. 1.]\n",
            "[2.791694e-17 1.000000e+00]\n",
            "[0. 1.]\n",
            "[0. 1.]\n",
            "[0. 1.]\n",
            "[0. 1.]\n",
            "[0. 1.]\n",
            "[0. 1.]\n",
            "[0. 1.]\n",
            "[0. 1.]\n",
            "[0. 1.]\n",
            "[4.5761348e-07 9.9999952e-01]\n",
            "[4.4134045e-29 1.0000000e+00]\n",
            "[1.0412865e-11 1.0000000e+00]\n",
            "[0. 1.]\n",
            "[0. 1.]\n",
            "[2.217367e-14 1.000000e+00]\n",
            "[0. 1.]\n",
            "[0. 1.]\n",
            "[0. 1.]\n",
            "[0. 1.]\n",
            "[0. 1.]\n",
            "[1.578908e-23 1.000000e+00]\n",
            "[0. 1.]\n",
            "[0. 1.]\n",
            "[0. 1.]\n",
            "[0. 1.]\n",
            "[0. 1.]\n",
            "[0. 1.]\n",
            "[0. 1.]\n",
            "[0. 1.]\n",
            "[2.0607956e-28 1.0000000e+00]\n",
            "[0. 1.]\n",
            "[0. 1.]\n",
            "[7.03422e-22 1.00000e+00]\n",
            "[0. 1.]\n",
            "[0. 1.]\n",
            "[3.1378584e-13 1.0000000e+00]\n",
            "[0. 1.]\n",
            "[0. 1.]\n",
            "[0. 1.]\n",
            "[1.000000e+00 4.370113e-22]\n",
            "[1.000000e+00 2.763487e-18]\n",
            "[1.000000e+00 4.544794e-27]\n",
            "[1. 0.]\n",
            "[1.0000000e+00 1.5981157e-32]\n",
            "[1.0000000e+00 1.9310174e-22]\n",
            "[1.0000000e+00 3.3643392e-27]\n",
            "[1.0000000e+00 2.1560168e-27]\n",
            "[1.0000000e+00 2.1041706e-26]\n",
            "[1.0000000e+00 1.7996241e-30]\n",
            "[1.0000000e+00 2.8708273e-29]\n",
            "[1.0000000e+00 1.3554136e-32]\n",
            "[1.0000000e+00 3.9529297e-25]\n",
            "[1.0000000e+00 1.5937398e-38]\n",
            "[1.0000000e+00 3.7544902e-37]\n",
            "[1.0000000e+00 7.8187875e-31]\n",
            "[1.0000000e+00 4.3800355e-18]\n",
            "[1.0000000e+00 1.0483668e-30]\n",
            "[1.000000e+00 9.271843e-30]\n",
            "[1.0000000e+00 1.5864584e-26]\n",
            "[1.000000e+00 5.635174e-35]\n",
            "[1.000000e+00 8.667532e-30]\n",
            "[1.0000000e+00 1.3161956e-16]\n",
            "[1.0000000e+00 2.9264161e-33]\n",
            "[1.0000000e+00 2.9255233e-33]\n",
            "[1.000000e+00 2.402357e-21]\n",
            "[1.0000000e+00 8.0680346e-22]\n",
            "[1.00000000e+00 1.05103794e-22]\n",
            "[1.000000e+00 4.520626e-25]\n",
            "[1.0000000e+00 2.1450656e-19]\n"
          ]
        }
      ]
    },
    {
      "cell_type": "code",
      "metadata": {
        "id": "-W_gB3BFeHax"
      },
      "source": [
        "ordered_file_name = []\n",
        "ordered_labels = []\n",
        "for i in range(1,99):\n",
        "  for j in file_name:\n",
        "    if i==eval(j[:-4]):\n",
        "      ordered_file_name.append(j)\n",
        "      ordered_labels.append(int(A[file_name.index(j)]))"
      ],
      "execution_count": 28,
      "outputs": []
    },
    {
      "cell_type": "code",
      "metadata": {
        "id": "z3l6_QXieKbe"
      },
      "source": [
        "final_result = dict(zip(ordered_file_name,ordered_labels))"
      ],
      "execution_count": 29,
      "outputs": []
    },
    {
      "cell_type": "code",
      "metadata": {
        "id": "1vCUae_HiFEv"
      },
      "source": [
        "with open(\"noobs_D_AI.json\", \"w\") as outfile:\n",
        "    json.dump(final_result, outfile)"
      ],
      "execution_count": 30,
      "outputs": []
    },
    {
      "cell_type": "code",
      "metadata": {
        "id": "w1olihr-lP7W"
      },
      "source": [
        ""
      ],
      "execution_count": null,
      "outputs": []
    }
  ]
}